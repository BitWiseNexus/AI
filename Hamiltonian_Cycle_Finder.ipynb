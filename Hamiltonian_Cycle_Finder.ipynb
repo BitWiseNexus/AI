{
  "nbformat": 4,
  "nbformat_minor": 0,
  "metadata": {
    "colab": {
      "provenance": []
    },
    "kernelspec": {
      "name": "python3",
      "display_name": "Python 3"
    },
    "language_info": {
      "name": "python"
    }
  },
  "cells": [
    {
      "cell_type": "code",
      "execution_count": 1,
      "metadata": {
        "id": "CIzasLelq1xC"
      },
      "outputs": [],
      "source": [
        "import heapq"
      ]
    },
    {
      "cell_type": "code",
      "source": [
        "class HamiltonianCycleFinder:\n",
        "    def __init__(self, adjacency_matrix):\n",
        "        self.graph = adjacency_matrix\n",
        "        self.num_vertices = len(adjacency_matrix)\n",
        "        self.start_vertex = 0\n",
        "\n",
        "    def find_hamiltonian_cycle(self):\n",
        "        path = [self.start_vertex]\n",
        "        visited = {self.start_vertex}\n",
        "        current_cost = 0\n",
        "        estimated_total_cost = self.estimate_remaining_cost(visited)\n",
        "\n",
        "        priority_queue = []\n",
        "        heapq.heappush(priority_queue, (estimated_total_cost, current_cost, path, visited))\n",
        "\n",
        "        best_cycle = None\n",
        "        best_cycle_cost = float(\"inf\")\n",
        "\n",
        "        while priority_queue:\n",
        "            total_estimate, cost_so_far, path_so_far, visited_nodes = heapq.heappop(priority_queue)\n",
        "            last_node = path_so_far[-1]\n",
        "\n",
        "            # If all vertices are visited, check if returning to start is possible\n",
        "            if len(path_so_far) == self.num_vertices:\n",
        "                if self.graph[last_node][self.start_vertex] > 0:\n",
        "                    cycle_cost = cost_so_far + self.graph[last_node][self.start_vertex]\n",
        "                    if cycle_cost < best_cycle_cost:\n",
        "                        best_cycle = path_so_far + [self.start_vertex]\n",
        "                        best_cycle_cost = cycle_cost\n",
        "                continue\n",
        "\n",
        "            # Explore neighbors\n",
        "            for neighbor in range(self.num_vertices):\n",
        "                if self.graph[last_node][neighbor] > 0 and neighbor not in visited_nodes:\n",
        "                    new_path = path_so_far + [neighbor]\n",
        "                    new_visited = visited_nodes | {neighbor}\n",
        "                    new_cost = cost_so_far + self.graph[last_node][neighbor]\n",
        "                    new_estimate = new_cost + self.estimate_remaining_cost(new_visited)\n",
        "                    heapq.heappush(priority_queue, (new_estimate, new_cost, new_path, new_visited))\n",
        "\n",
        "        return best_cycle, best_cycle_cost if best_cycle else (None, None)\n",
        "\n",
        "    def estimate_remaining_cost(self, visited):\n",
        "        # Simple heuristic: assume at least min edge cost * remaining vertices\n",
        "        remaining_vertices = set(range(self.num_vertices)) - visited\n",
        "        if not remaining_vertices:\n",
        "            return 0\n",
        "        min_edge_weight = float(\"inf\")\n",
        "        for u in range(self.num_vertices):\n",
        "            for v in range(self.num_vertices):\n",
        "                if u != v and self.graph[u][v] > 0:\n",
        "                    min_edge_weight = min(min_edge_weight, self.graph[u][v])\n",
        "        return len(remaining_vertices) * (min_edge_weight if min_edge_weight != float(\"inf\") else 1)"
      ],
      "metadata": {
        "id": "WAUNFYzEUrgp"
      },
      "execution_count": 3,
      "outputs": []
    },
    {
      "cell_type": "code",
      "source": [
        "def build_adjacency_matrix(num_vertices, edge_list):\n",
        "    matrix = [[0] * num_vertices for _ in range(num_vertices)]\n",
        "    for u, v, weight in edge_list:\n",
        "        matrix[u-1][v-1] = weight\n",
        "        matrix[v-1][u-1] = weight  # undirected graph\n",
        "    return matrix\n",
        "\n",
        "\n",
        "def main():\n",
        "    num_vertices = 4\n",
        "    edge_list = [\n",
        "        (1, 2, 10),\n",
        "        (2, 3, 15),\n",
        "        (3, 4, 25),\n",
        "        (4, 1, 25),\n",
        "        (1, 3, 35),\n",
        "        (2, 4, 30)\n",
        "    ]\n",
        "\n",
        "    adjacency_matrix = build_adjacency_matrix(num_vertices, edge_list)\n",
        "    solver = HamiltonianCycleFinder(adjacency_matrix)\n",
        "    cycle, min_cycle_cost = solver.find_hamiltonian_cycle()\n",
        "\n",
        "    if cycle:\n",
        "        print(\"Hamiltonian cycle found with minimum cost:\")\n",
        "        print(\" -> \".join(str(v + 1) for v in cycle))\n",
        "        print(\"Total cost:\", min_cycle_cost)\n",
        "    else:\n",
        "        print(\"No Hamiltonian cycle exists.\")"
      ],
      "metadata": {
        "id": "hxM4XbopU0es"
      },
      "execution_count": 10,
      "outputs": []
    },
    {
      "cell_type": "code",
      "source": [
        "if __name__ == \"__main__\":\n",
        "    main()"
      ],
      "metadata": {
        "colab": {
          "base_uri": "https://localhost:8080/"
        },
        "id": "vguBnCdEU_W2",
        "outputId": "b9f60704-50bc-4fa7-e4c7-09a17eb7cd4e"
      },
      "execution_count": 11,
      "outputs": [
        {
          "output_type": "stream",
          "name": "stdout",
          "text": [
            "Hamiltonian cycle found with minimum cost:\n",
            "1 -> 2 -> 3 -> 4 -> 1\n",
            "Total cost: 75\n"
          ]
        }
      ]
    }
  ]
}
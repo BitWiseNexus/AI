{
  "nbformat": 4,
  "nbformat_minor": 0,
  "metadata": {
    "colab": {
      "provenance": []
    },
    "kernelspec": {
      "name": "python3",
      "display_name": "Python 3"
    },
    "language_info": {
      "name": "python"
    }
  },
  "cells": [
    {
      "cell_type": "code",
      "execution_count": 26,
      "metadata": {
        "id": "awWFX6tpmPY7"
      },
      "outputs": [],
      "source": [
        "import heapq\n",
        "import math"
      ]
    },
    {
      "cell_type": "code",
      "source": [
        "GOAL = [\n",
        "    [1, 2, 3],\n",
        "    [4, 5, 6],\n",
        "    [7, 8, 0]\n",
        "]"
      ],
      "metadata": {
        "id": "cFTcIwkfnQ9X"
      },
      "execution_count": 27,
      "outputs": []
    },
    {
      "cell_type": "code",
      "source": [
        "def is_solvable(state):\n",
        "    flat = [tile for row in state for tile in row if tile != 0]\n",
        "    inv = 0\n",
        "    for i in range(len(flat)):\n",
        "        for j in range(i + 1, len(flat)):\n",
        "            if flat[i] > flat[j]:\n",
        "                inv += 1\n",
        "    return inv % 2 == 0"
      ],
      "metadata": {
        "id": "E_zJWlZpIJde"
      },
      "execution_count": 28,
      "outputs": []
    },
    {
      "cell_type": "code",
      "source": [
        "def manhattan(state):\n",
        "    distance = 0\n",
        "    for r in range(3):\n",
        "        for c in range(3):\n",
        "            tile = state[r][c]\n",
        "            if tile != 0:\n",
        "                goal_r, goal_c = divmod(tile - 1, 3)\n",
        "                distance += abs(r - goal_r) + abs(c - goal_c)\n",
        "    return distance"
      ],
      "metadata": {
        "id": "kBlzy_VHJtbx"
      },
      "execution_count": 29,
      "outputs": []
    },
    {
      "cell_type": "code",
      "source": [
        "def neighbors(state):\n",
        "    results = []\n",
        "    for r in range(3):\n",
        "        for c in range(3):\n",
        "            if state[r][c] == 0:\n",
        "                blank_r, blank_c = r, c\n",
        "                break\n",
        "\n",
        "    moves = [(-1, 0, \"Up\"), (1, 0, \"Down\"), (0, -1, \"Left\"), (0, 1, \"Right\")]\n",
        "    for dr, dc, name in moves:\n",
        "        nr, nc = blank_r + dr, blank_c + dc\n",
        "        if 0 <= nr < 3 and 0 <= nc < 3:\n",
        "            new_state = [row[:] for row in state]\n",
        "            new_state[blank_r][blank_c], new_state[nr][nc] = new_state[nr][nc], new_state[blank_r][blank_c]\n",
        "            results.append((new_state, name))\n",
        "    return results"
      ],
      "metadata": {
        "id": "lywFEerdJyYY"
      },
      "execution_count": 30,
      "outputs": []
    },
    {
      "cell_type": "code",
      "source": [
        "def reconstruct_path(came_from, current):\n",
        "    path = []\n",
        "    while came_from[str(current)][0] is not None:\n",
        "        prev, move = came_from[str(current)]\n",
        "        path.append(move)\n",
        "        current = prev\n",
        "    path.reverse()\n",
        "    return path"
      ],
      "metadata": {
        "id": "mi5uKv7iJ1fJ"
      },
      "execution_count": 31,
      "outputs": []
    },
    {
      "cell_type": "code",
      "source": [
        "def a_star(start):\n",
        "    if start == GOAL:\n",
        "        return [], 0, 0\n",
        "    if not is_solvable(start):\n",
        "        raise ValueError(\"Not solvable.\")\n",
        "\n",
        "    open_heap = []\n",
        "    g_score = {str(start): 0}\n",
        "    f_score = manhattan(start)\n",
        "    heapq.heappush(open_heap, (f_score, 0, start))\n",
        "    came_from = {str(start): (None, None)}\n",
        "    closed_set = set()\n",
        "\n",
        "    tie = 1\n",
        "\n",
        "    while open_heap:\n",
        "        current_f, _, current = heapq.heappop(open_heap)\n",
        "        if str(current) in closed_set:\n",
        "            continue\n",
        "        if current == GOAL:\n",
        "            moves = reconstruct_path(came_from, current)\n",
        "            return moves\n",
        "\n",
        "        closed_set.add(str(current))\n",
        "\n",
        "        for nbr, move in neighbors(current):\n",
        "            if str(nbr) in closed_set:\n",
        "                continue\n",
        "            tentative_g = g_score[str(current)] + 1\n",
        "            if tentative_g < g_score.get(str(nbr), math.inf):\n",
        "                came_from[str(nbr)] = (current, move)\n",
        "                g_score[str(nbr)] = tentative_g\n",
        "                f = tentative_g + manhattan(nbr)\n",
        "                tie += 1\n",
        "                heapq.heappush(open_heap, (f, tie, nbr))\n",
        "\n",
        "    raise RuntimeError(\"No solution found.\")"
      ],
      "metadata": {
        "id": "8ImUIBnOJ7Jk"
      },
      "execution_count": 32,
      "outputs": []
    },
    {
      "cell_type": "code",
      "source": [
        "def pretty_print(state):\n",
        "    for row in state:\n",
        "        print(' '.join(str(x) if x != 0 else '_' for x in row))\n",
        "    print()\n",
        "\n",
        "if __name__ == \"__main__\":\n",
        "    start_state = [\n",
        "        [1, 2, 3],\n",
        "        [4, 6, 7],\n",
        "        [0, 5, 8]\n",
        "    ]\n",
        "\n",
        "    print(\"Start:\")\n",
        "    pretty_print(start_state)\n",
        "    print(\"Goal:\")\n",
        "    pretty_print(GOAL)\n",
        "\n",
        "    try:\n",
        "        moves = a_star(start_state)\n",
        "        print(f\"Solution in {len(moves)} moves.\")\n",
        "        print(\"Moves:\", moves)\n",
        "\n",
        "        cur = start_state\n",
        "        for i, m in enumerate(moves, 1):\n",
        "            for nbr, mv in neighbors(cur):\n",
        "                if mv == m:\n",
        "                    cur = nbr\n",
        "                    break\n",
        "            print(f\"After move {i}: {m}\")\n",
        "            pretty_print(cur)\n",
        "\n",
        "    except ValueError as e:\n",
        "        print(e)"
      ],
      "metadata": {
        "colab": {
          "base_uri": "https://localhost:8080/"
        },
        "id": "moZ4kaQeKDKo",
        "outputId": "43c45646-ef5b-4354-e2e6-beda3bdd3e09"
      },
      "execution_count": 33,
      "outputs": [
        {
          "output_type": "stream",
          "name": "stdout",
          "text": [
            "Start:\n",
            "1 2 3\n",
            "4 6 7\n",
            "_ 5 8\n",
            "\n",
            "Goal:\n",
            "1 2 3\n",
            "4 5 6\n",
            "7 8 _\n",
            "\n",
            "Solution in 14 moves.\n",
            "Moves: ['Up', 'Right', 'Right', 'Down', 'Left', 'Up', 'Left', 'Down', 'Right', 'Right', 'Up', 'Left', 'Down', 'Right']\n",
            "After move 1: Up\n",
            "1 2 3\n",
            "_ 6 7\n",
            "4 5 8\n",
            "\n",
            "After move 2: Right\n",
            "1 2 3\n",
            "6 _ 7\n",
            "4 5 8\n",
            "\n",
            "After move 3: Right\n",
            "1 2 3\n",
            "6 7 _\n",
            "4 5 8\n",
            "\n",
            "After move 4: Down\n",
            "1 2 3\n",
            "6 7 8\n",
            "4 5 _\n",
            "\n",
            "After move 5: Left\n",
            "1 2 3\n",
            "6 7 8\n",
            "4 _ 5\n",
            "\n",
            "After move 6: Up\n",
            "1 2 3\n",
            "6 _ 8\n",
            "4 7 5\n",
            "\n",
            "After move 7: Left\n",
            "1 2 3\n",
            "_ 6 8\n",
            "4 7 5\n",
            "\n",
            "After move 8: Down\n",
            "1 2 3\n",
            "4 6 8\n",
            "_ 7 5\n",
            "\n",
            "After move 9: Right\n",
            "1 2 3\n",
            "4 6 8\n",
            "7 _ 5\n",
            "\n",
            "After move 10: Right\n",
            "1 2 3\n",
            "4 6 8\n",
            "7 5 _\n",
            "\n",
            "After move 11: Up\n",
            "1 2 3\n",
            "4 6 _\n",
            "7 5 8\n",
            "\n",
            "After move 12: Left\n",
            "1 2 3\n",
            "4 _ 6\n",
            "7 5 8\n",
            "\n",
            "After move 13: Down\n",
            "1 2 3\n",
            "4 5 6\n",
            "7 _ 8\n",
            "\n",
            "After move 14: Right\n",
            "1 2 3\n",
            "4 5 6\n",
            "7 8 _\n",
            "\n"
          ]
        }
      ]
    },
    {
      "cell_type": "code",
      "source": [],
      "metadata": {
        "id": "xbYxTRoUKNPv"
      },
      "execution_count": null,
      "outputs": []
    }
  ]
}
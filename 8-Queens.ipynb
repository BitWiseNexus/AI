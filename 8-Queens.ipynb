{
  "nbformat": 4,
  "nbformat_minor": 0,
  "metadata": {
    "colab": {
      "provenance": []
    },
    "kernelspec": {
      "name": "python3",
      "display_name": "Python 3"
    },
    "language_info": {
      "name": "python"
    }
  },
  "cells": [
    {
      "cell_type": "code",
      "execution_count": 1,
      "metadata": {
        "id": "W44QqzRetbaf"
      },
      "outputs": [],
      "source": [
        "import math\n",
        "import random\n",
        "from typing import List, Tuple"
      ]
    },
    {
      "cell_type": "code",
      "source": [
        "def count_conflicts(board: List[int]) -> int:\n",
        "    conflicts = 0\n",
        "    n = len(board)\n",
        "    for i in range(n):\n",
        "        for j in range(i + 1, n):\n",
        "            if board[i] == board[j] or abs(board[i] - board[j]) == abs(i - j):\n",
        "                conflicts += 1\n",
        "    return conflicts"
      ],
      "metadata": {
        "id": "GXzhSexwfAPW"
      },
      "execution_count": 2,
      "outputs": []
    },
    {
      "cell_type": "code",
      "source": [
        "def display(board: List[int]) -> None:\n",
        "    n = len(board)\n",
        "    for r in range(1, n + 1):\n",
        "        line = [\"Q\" if board[c] == r else \".\" for c in range(n)]\n",
        "        print(\" \".join(line))\n",
        "    print()"
      ],
      "metadata": {
        "id": "upu2IToUfEQa"
      },
      "execution_count": 3,
      "outputs": []
    },
    {
      "cell_type": "code",
      "source": [
        "def generate_neighbor(board: List[int]) -> Tuple[List[int], str]:\n",
        "    n = len(board)\n",
        "    new_board = board[:]\n",
        "\n",
        "    if random.random() < 0.5:\n",
        "        col = random.randrange(n)\n",
        "        current = new_board[col]\n",
        "        new_row = random.choice([r for r in range(1, n + 1) if r != current])\n",
        "        new_board[col] = new_row\n",
        "        return new_board, f\"Changed queen in column {col+1}: {current} → {new_row}\"\n",
        "    else:\n",
        "        i, j = random.sample(range(n), 2)\n",
        "        new_board[i], new_board[j] = new_board[j], new_board[i]\n",
        "        return new_board, f\"Swapped queens between columns {i+1} and {j+1}\""
      ],
      "metadata": {
        "id": "a3GdLfSAfJ2A"
      },
      "execution_count": 4,
      "outputs": []
    },
    {
      "cell_type": "code",
      "source": [
        "def simulated_annealing(initial: List[int], temp: float = 60.0, cooling: float = 0.97, min_temp: float = 1e-3) -> Tuple[List[int], int]:\n",
        "    state = initial[:]\n",
        "    score = count_conflicts(state)\n",
        "    best_state = state[:]\n",
        "    best_score = score\n",
        "    step = 0\n",
        "\n",
        "    print(\"Starting simulated annealing...\\n\")\n",
        "    print(f\"Initial state: {state}, Conflicts: {score}\\n\")\n",
        "\n",
        "    while temp > min_temp and score > 0:\n",
        "        candidate, action = generate_neighbor(state)\n",
        "        candidate_score = count_conflicts(candidate)\n",
        "        delta = candidate_score - score\n",
        "        accept = delta <= 0 or random.random() < math.exp(-delta / temp)\n",
        "\n",
        "        if accept:\n",
        "            state = candidate\n",
        "            score = candidate_score\n",
        "            if score < best_score:\n",
        "                best_state = state[:]\n",
        "                best_score = score\n",
        "\n",
        "        step += 1\n",
        "        if step % 50 == 0:\n",
        "            print(f\"Step {step}, Temp: {temp:.3f}, Best Conflicts: {best_score}\")\n",
        "\n",
        "        temp *= cooling\n",
        "\n",
        "        if best_score == 0:\n",
        "            break\n",
        "\n",
        "    print(\"\\nFinished.\")\n",
        "    print(\"Best arrangement found:\")\n",
        "    display(best_state)\n",
        "    print(f\"Conflicts remaining: {best_score}\")\n",
        "    return best_state, best_score\n"
      ],
      "metadata": {
        "id": "jkbvBgmqfPJY"
      },
      "execution_count": 7,
      "outputs": []
    },
    {
      "cell_type": "code",
      "source": [
        "if __name__ == \"__main__\":\n",
        "    start = [3, 1, 6, 8, 5, 2, 4, 7]\n",
        "    simulated_annealing(start)"
      ],
      "metadata": {
        "colab": {
          "base_uri": "https://localhost:8080/"
        },
        "id": "fOv4udgUfm1v",
        "outputId": "444b7158-7bf8-4fe6-ce13-e331fb8a5626"
      },
      "execution_count": 8,
      "outputs": [
        {
          "output_type": "stream",
          "name": "stdout",
          "text": [
            "Starting simulated annealing...\n",
            "\n",
            "Initial state: [3, 1, 6, 8, 5, 2, 4, 7], Conflicts: 1\n",
            "\n",
            "Step 50, Temp: 13.489, Best Conflicts: 1\n",
            "Step 100, Temp: 2.941, Best Conflicts: 1\n",
            "Step 150, Temp: 0.641, Best Conflicts: 1\n",
            "Step 200, Temp: 0.140, Best Conflicts: 1\n",
            "Step 250, Temp: 0.031, Best Conflicts: 1\n",
            "Step 300, Temp: 0.007, Best Conflicts: 1\n",
            "Step 350, Temp: 0.001, Best Conflicts: 1\n",
            "\n",
            "Finished.\n",
            "Best arrangement found:\n",
            ". Q . . . . . .\n",
            ". . . . . Q . .\n",
            "Q . . . . . . .\n",
            ". . . . . . Q .\n",
            ". . . . Q . . .\n",
            ". . Q . . . . .\n",
            ". . . . . . . Q\n",
            ". . . Q . . . .\n",
            "\n",
            "Conflicts remaining: 1\n"
          ]
        }
      ]
    }
  ]
}